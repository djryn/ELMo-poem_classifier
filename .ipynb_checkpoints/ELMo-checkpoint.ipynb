{
 "cells": [
  {
   "cell_type": "code",
   "execution_count": 1,
   "id": "53906853-a114-4829-aa95-935e9c5d4813",
   "metadata": {},
   "outputs": [],
   "source": [
    "import pandas as pd\n",
    "import numpy as np\n",
    "import spacy\n",
    "from tqdm import tqdm\n",
    "import re\n",
    "import time\n",
    "import pickle\n",
    "pd.set_option('display.max_colwidth', 200)"
   ]
  },
  {
   "cell_type": "markdown",
   "id": "44f7d7d5-13a9-4ce6-b15e-7e3afc68030f",
   "metadata": {},
   "source": [
    "# ELMo Language Model"
   ]
  },
  {
   "cell_type": "markdown",
   "id": "ba222037-356d-4017-91c0-51b488f61d34",
   "metadata": {},
   "source": [
    "The ELMo Language model constists of the following componenets:\n",
    "- The model inputs a sequence of words\n",
    "- Each word is broken down into their respective characters, where each caracter is then one-hot encoded to form a sparse matrix for every word.\n",
    "- Each matrix is then multiplied by a learned embedding matrix to reduce the dimentionality into a dense character matrix\n",
    "- The dense character matrix is then input into a CNN to generate a character-level representation of each of the words in the input sequence\n",
    "- The character-level representations are then input into the 2 bi-directional LSTM layers, to process the input sequence both forwards and backwards\n",
    "- The outputs for each layer is then concatinated and using to get a weighted average of the input embeddings\n",
    "- Final contextualized word embeddings are then obtained the weighted average of the input words with the original word embeddings (those generated with the learned embedding matrix)\n",
    "\n",
    "The use of the CNN over the character matrix allows the model to capture more nuanced relations between characters and words, as well as to be able to process out-of-vocabulary words. After this, the bidirectional language model allows the words in the input sequence to gain context from both directions, rather than just forward. Overall, these components allows the model to capture more complex linguistic phenomena and it has shown through various benchmarks to outperform almost all other existing models at the time."
   ]
  },
  {
   "cell_type": "markdown",
   "id": "703c3712-098f-4fc0-bb23-1c7e2abca63d",
   "metadata": {},
   "source": [
    "## Problem Statement"
   ]
  },
  {
   "cell_type": "markdown",
   "id": "da8636a3-056b-48ff-8caa-8c3789eaa8a7",
   "metadata": {},
   "source": [
    "In this notebook I will create a genre classifier model for poems in order to showcase ELMo using PyTorch. The dataset can be found [here](https://www.kaggle.com/datasets/ramjasmaurya/poem-classification-nlp)"
   ]
  },
  {
   "cell_type": "markdown",
   "id": "3496c820-0ab6-42c4-88dc-3d57beb1d90c",
   "metadata": {},
   "source": [
    "## Dataset Description"
   ]
  },
  {
   "cell_type": "markdown",
   "id": "4ecef750-3298-45bf-ad7b-4b4506ff7f0c",
   "metadata": {},
   "source": [
    "The dataset that I am using for this project and analysis contains around 1000 poems, each being categorized into one of four genres: Affection, Environment, Music, and Death. The dataset consists of a total of 2 columns: the poem text its respective genre. The poems and their genre were obtained by scraping the website www.poets.org using the BeautifulSoup python library. There is potential to continue this effort to scrape possibly more data and expand the dataset. "
   ]
  },
  {
   "cell_type": "code",
   "execution_count": 2,
   "id": "7c30b806-516d-467c-8f53-1f5a0af84aeb",
   "metadata": {},
   "outputs": [
    {
     "name": "stdout",
     "output_type": "stream",
     "text": [
      "(150, 2)\n",
      "========\n",
      "   Genre  \\\n",
      "0  Music   \n",
      "1  Music   \n",
      "2  Music   \n",
      "3  Music   \n",
      "4  Music   \n",
      "\n",
      "                                                                                                                                                                                                      Poem  \n",
      "0                                                                                                                                                                                                      NaN  \n",
      "1                In the thick brushthey spend the hottest part of the day,              soaking their hoovesin the trickle of mountain water              the ravine hoardson behalf of the oleander.  ...  \n",
      "2             Storms are generous.                                      Something so easy to surrender to, sitting by the window, and then you step out into the garden you were so bored of,               \n",
      "3   —After Ana Mendieta Did you carry around the matin star? Did you hold forest-fire in one hand? Would you wake to radiate, shimmer, gleam lucero-light? Through the morning would you measure the wi...  \n",
      "4   for Aja Sherrard at 20The portent may itself be memory. —Wallace StevensHow hard to carry scores of adults on your back,not look at them as carrions of need, the distressof what loyalty requires....  \n"
     ]
    }
   ],
   "source": [
    "import pandas as pd\n",
    "import matplotlib.pyplot as plt\n",
    "import seaborn as sns\n",
    "import warnings\n",
    "warnings.filterwarnings('ignore')\n",
    "\n",
    "df_train = pd.read_csv(\"data/poem_train.csv\")\n",
    "df_test = pd.read_csv(\"data/poem_test.csv\")\n",
    "\n",
    "print(df_test.shape)\n",
    "print(\"========\")\n",
    "print(df_train.head())\n",
    "# sns.countplot(train['Genre'])\n",
    "# plt.show()"
   ]
  },
  {
   "cell_type": "code",
   "execution_count": 3,
   "id": "eef9b37b-ac1d-4562-a161-a57b9300161a",
   "metadata": {},
   "outputs": [
    {
     "name": "stdout",
     "output_type": "stream",
     "text": [
      "Training Data: \n",
      "\n",
      "<class 'pandas.core.frame.DataFrame'>\n",
      "RangeIndex: 841 entries, 0 to 840\n",
      "Data columns (total 2 columns):\n",
      " #   Column  Non-Null Count  Dtype \n",
      "---  ------  --------------  ----- \n",
      " 0   Genre   841 non-null    object\n",
      " 1   Poem    837 non-null    object\n",
      "dtypes: object(2)\n",
      "memory usage: 13.3+ KB\n",
      "None\n",
      "\n",
      "Testing Data: \n",
      "\n",
      "<class 'pandas.core.frame.DataFrame'>\n",
      "RangeIndex: 150 entries, 0 to 149\n",
      "Data columns (total 2 columns):\n",
      " #   Column  Non-Null Count  Dtype \n",
      "---  ------  --------------  ----- \n",
      " 0   Genre   150 non-null    object\n",
      " 1   Poem    150 non-null    object\n",
      "dtypes: object(2)\n",
      "memory usage: 2.5+ KB\n",
      "None\n"
     ]
    }
   ],
   "source": [
    "print(\"Training Data: \\n\")\n",
    "print(df_train.info(), end=\"\\n\\n\")\n",
    "print(\"Testing Data: \\n\")\n",
    "print(df_test.info())"
   ]
  },
  {
   "cell_type": "markdown",
   "id": "fa975cdd-762a-4574-97e7-92eba089e973",
   "metadata": {},
   "source": [
    "## Data Quality"
   ]
  },
  {
   "cell_type": "code",
   "execution_count": 4,
   "id": "fbff2d58-c34a-497e-892f-1fb196188ff7",
   "metadata": {},
   "outputs": [
    {
     "data": {
      "image/png": "[encoded data removed]",
      "text/plain": [
       "<Figure size 2400x1000 with 3 Axes>"
      ]
     },
     "metadata": {},
     "output_type": "display_data"
    }
   ],
   "source": [
    "import missingno as mn\n",
    "\n",
    "warnings.simplefilter('ignore', DeprecationWarning)\n",
    "%matplotlib inline\n",
    "\n",
    "mn.bar(pd.concat([df_test, df_train]))\n",
    "# plt.figure()\n",
    "# mn.matrix(df.sort_values(\"Arrival Delay in Minutes\"))\n",
    "plt.title(\"Matrix visualization\", fontsize=22)\n",
    "plt.show()"
   ]
  },
  {
   "cell_type": "markdown",
   "id": "ee4a0bd6-b084-4125-82fd-3207d4cbea00",
   "metadata": {},
   "source": [
    "There seem to be 4 null values within the dataset. I decided to just drop the NaN instances from the training set, as there is a small amount, and there aren't any ways I know of to impute extended text. "
   ]
  },
  {
   "cell_type": "code",
   "execution_count": 5,
   "id": "236e7a55-422e-4ca8-b383-bf2ab277570d",
   "metadata": {},
   "outputs": [
    {
     "name": "stdout",
     "output_type": "stream",
     "text": [
      "0.48%\n"
     ]
    },
    {
     "data": {
      "text/html": [
       "<div>\n",
       "<style scoped>\n",
       "    .dataframe tbody tr th:only-of-type {\n",
       "        vertical-align: middle;\n",
       "    }\n",
       "\n",
       "    .dataframe tbody tr th {\n",
       "        vertical-align: top;\n",
       "    }\n",
       "\n",
       "    .dataframe thead th {\n",
       "        text-align: right;\n",
       "    }\n",
       "</style>\n",
       "<table border=\"1\" class=\"dataframe\">\n",
       "  <thead>\n",
       "    <tr style=\"text-align: right;\">\n",
       "      <th></th>\n",
       "      <th>Genre</th>\n",
       "      <th>Poem</th>\n",
       "    </tr>\n",
       "  </thead>\n",
       "  <tbody>\n",
       "    <tr>\n",
       "      <th>count</th>\n",
       "      <td>4</td>\n",
       "      <td>0</td>\n",
       "    </tr>\n",
       "    <tr>\n",
       "      <th>unique</th>\n",
       "      <td>2</td>\n",
       "      <td>0</td>\n",
       "    </tr>\n",
       "    <tr>\n",
       "      <th>top</th>\n",
       "      <td>Death</td>\n",
       "      <td>NaN</td>\n",
       "    </tr>\n",
       "    <tr>\n",
       "      <th>freq</th>\n",
       "      <td>3</td>\n",
       "      <td>NaN</td>\n",
       "    </tr>\n",
       "  </tbody>\n",
       "</table>\n",
       "</div>"
      ],
      "text/plain": [
       "        Genre Poem\n",
       "count       4    0\n",
       "unique      2    0\n",
       "top     Death  NaN\n",
       "freq        3  NaN"
      ]
     },
     "execution_count": 5,
     "metadata": {},
     "output_type": "execute_result"
    }
   ],
   "source": [
    "print(\"{:.2%}\".format(len(df_train[df_train[\"Poem\"].isna()])/len(df_train)))\n",
    "df_train[df_train[\"Poem\"].isna()].describe()"
   ]
  },
  {
   "cell_type": "code",
   "execution_count": 6,
   "id": "c8863faf-af94-4c09-a86d-1217ff485799",
   "metadata": {},
   "outputs": [],
   "source": [
    "df_train = df_train[df_train[\"Poem\"].isna() == False]"
   ]
  },
  {
   "cell_type": "markdown",
   "id": "37d446ce-ba50-4e40-a3cb-f232044e931b",
   "metadata": {},
   "source": [
    "Now lets check for duplicate values, just in case. "
   ]
  },
  {
   "cell_type": "code",
   "execution_count": 7,
   "id": "c9529db4-e573-4d5e-9d3b-6cce19ac01cb",
   "metadata": {},
   "outputs": [
    {
     "name": "stdout",
     "output_type": "stream",
     "text": [
      "Diplicates in training set:  2\n",
      "Duplicates in test set:  0\n"
     ]
    }
   ],
   "source": [
    "idx = df_train.duplicated()\n",
    "print(\"Diplicates in training set: \", len(df_train[idx]))\n",
    "df_train = df_train[-idx] # remove instances\n",
    "\n",
    "idx = df_test.duplicated()\n",
    "print(\"Duplicates in test set: \", len(df_test[idx]))\n",
    "df_test = df_test[-idx]"
   ]
  },
  {
   "cell_type": "markdown",
   "id": "b286d680-6979-4299-ac2f-fe76ce6140e3",
   "metadata": {},
   "source": [
    "There were a couple of duplicates in the train set, to my surpise. This must have been a result of a small bug when scraping the data. Either way, I just removed the instances. "
   ]
  },
  {
   "cell_type": "markdown",
   "id": "15319972-9443-414b-a1fc-f78a75811476",
   "metadata": {},
   "source": [
    "Next, lets see how balanced each of the classes are in the dataset. Like most datasets regarding classifying genre, I expect there to be a large imbalance towards one genre. "
   ]
  },
  {
   "cell_type": "code",
   "execution_count": 8,
   "id": "66e78cef-aeca-4a52-aac1-6c228b96b423",
   "metadata": {},
   "outputs": [
    {
     "data": {
      "image/png": "[encoded data removed]",
      "text/plain": [
       "<Figure size 640x480 with 1 Axes>"
      ]
     },
     "metadata": {},
     "output_type": "display_data"
    }
   ],
   "source": [
    "from sklearn import metrics as mt\n",
    "from matplotlib import pyplot as plt\n",
    "%matplotlib inline\n",
    "\n",
    "NUM_CLASSES = 4\n",
    "\n",
    "# print some stats of the data\n",
    "df = pd.concat([df_test, df_train])\n",
    "unique, counts = np.unique(df['Genre'], return_counts=True)\n",
    "\n",
    "idx = [0,1,2,3] # indexes so the instance counts are in order from extremely negative to extremely positive\n",
    "plt.bar(list(range(NUM_CLASSES)),counts[idx])\n",
    "plt.xticks(list(range(NUM_CLASSES)), unique[idx], rotation='vertical')\n",
    "plt.ylabel(\"Number of Instances in Each Class\")\n",
    "plt.title(\"Class balance\")\n",
    "plt.show()"
   ]
  },
  {
   "cell_type": "markdown",
   "id": "1a8841d5-06f3-47b7-bd31-282fa45e34c0",
   "metadata": {},
   "source": [
    "Surprisingly, the dataset is extremely balanced, as each class only varies by ±10 instances. However, since the dataset is quite small, using K-folds to evalidate the model might still be necessary in training the model. "
   ]
  },
  {
   "cell_type": "markdown",
   "id": "824f20d8-f8e5-4aca-89b9-f1f1633f3c79",
   "metadata": {},
   "source": [
    "## Text Processing and Cleaning"
   ]
  },
  {
   "cell_type": "markdown",
   "id": "61e6e710-004c-486a-ae6f-c7bca068c18b",
   "metadata": {},
   "source": [
    "I will experiment with different preprocessing techniques to see how impactful stemming and removing stop words will be. At first, I will just remove punctuation marks, convert text to lowercase, and remove whitespace for basic cleaning"
   ]
  },
  {
   "cell_type": "code",
   "execution_count": null,
   "id": "1d5f4662-affe-41c7-bf36-10778d4f009a",
   "metadata": {},
   "outputs": [],
   "source": [
    "import nltk"
   ]
  },
  {
   "cell_type": "code",
   "execution_count": 10,
   "id": "fec140e8-488c-4fb1-ae4f-6ffaac66cfd0",
   "metadata": {},
   "outputs": [],
   "source": [
    "# remove punctuation marks\n",
    "punctuation = '!\"#$%&()*+-/:;<=>?@[\\\\]^_`{|}~'\n",
    "\n",
    "df_train['clean_poem'] = df_train['Poem'].apply(lambda x: ''.join(ch for ch in x if ch not in set(punctuation)))\n",
    "df_test['clean_poem'] = df_test['Poem'].apply(lambda x: ''.join(ch for ch in x if ch not in set(punctuation)))\n",
    "\n",
    "# convert text to lowercase\n",
    "df_train['clean_poem'] = df_train['clean_poem'].str.lower()\n",
    "df_test['clean_poem'] = df_test['clean_poem'].str.lower()\n",
    "\n",
    "# remove numbers\n",
    "df_train['clean_poem'] = df_train['clean_poem'].str.replace(\"[0-9]\", \" \")\n",
    "df_test['clean_poem'] = df_test['clean_poem'].str.replace(\"[0-9]\", \" \")\n",
    "\n",
    "# remove whitespace\n",
    "df_train['clean_poem'] = df_train['clean_poem'].apply(lambda x:' '.join(x.split()))\n",
    "df_test['clean_poem'] = df_test['clean_poem'].apply(lambda x:' '.join(x.split()))"
   ]
  },
  {
   "cell_type": "markdown",
   "id": "14887707-5d6f-44a2-8b41-1ff89aefd0c1",
   "metadata": {},
   "source": [
    "Later one we will test with stemming and normalizing the text and see how it will affect the performance of the model"
   ]
  },
  {
   "cell_type": "code",
   "execution_count": 11,
   "id": "871ea85a-03f8-4274-9ecf-cbc1534efa93",
   "metadata": {},
   "outputs": [
    {
     "data": {
      "text/html": [
       "<div>\n",
       "<style scoped>\n",
       "    .dataframe tbody tr th:only-of-type {\n",
       "        vertical-align: middle;\n",
       "    }\n",
       "\n",
       "    .dataframe tbody tr th {\n",
       "        vertical-align: top;\n",
       "    }\n",
       "\n",
       "    .dataframe thead th {\n",
       "        text-align: right;\n",
       "    }\n",
       "</style>\n",
       "<table border=\"1\" class=\"dataframe\">\n",
       "  <thead>\n",
       "    <tr style=\"text-align: right;\">\n",
       "      <th></th>\n",
       "      <th>Genre</th>\n",
       "      <th>Poem</th>\n",
       "      <th>clean_poem</th>\n",
       "    </tr>\n",
       "  </thead>\n",
       "  <tbody>\n",
       "    <tr>\n",
       "      <th>482</th>\n",
       "      <td>Affection</td>\n",
       "      <td>All in green went my love ridingon a great horse of goldinto the silver dawn.four lean hounds crouched low and smilingthe merry deer ran before. Fleeter be they than dappled dreamsthe swift sweet ...</td>\n",
       "      <td>all in green went my love ridingon a great horse of goldinto the silver dawn.four lean hounds crouched low and smilingthe merry deer ran before. fleeter be they than dappled dreamsthe swift sweet ...</td>\n",
       "    </tr>\n",
       "    <tr>\n",
       "      <th>127</th>\n",
       "      <td>Music</td>\n",
       "      <td>May I venture to address you, vegetal friend?A lettuce is no less than me, so I respect you,though it’s also true I may make a salad of you,later. That’s how we humans roll. Our speciesis blowing ...</td>\n",
       "      <td>may i venture to address you, vegetal frienda lettuce is no less than me, so i respect you,though it’s also true i may make a salad of you,later. that’s how we humans roll. our speciesis blowing i...</td>\n",
       "    </tr>\n",
       "    <tr>\n",
       "      <th>132</th>\n",
       "      <td>Music</td>\n",
       "      <td>my parents were born from a car. they climbed out &amp; kissed the car on its cheek. my grandmother. to be a first generation person. 23 and Me reports i am descendant of pistons &amp; drive trains. 33% i...</td>\n",
       "      <td>my parents were born from a car. they climbed out kissed the car on its cheek. my grandmother. to be a first generation person. and me reports i am descendant of pistons drive trains. irrigation t...</td>\n",
       "    </tr>\n",
       "    <tr>\n",
       "      <th>69</th>\n",
       "      <td>Music</td>\n",
       "      <td>for my grandfatherWe don’t have heirlooms. Haven’t owned things long enough. We’re hoarding us in our stories.</td>\n",
       "      <td>for my grandfatherwe don’t have heirlooms. haven’t owned things long enough. we’re hoarding us in our stories.</td>\n",
       "    </tr>\n",
       "    <tr>\n",
       "      <th>500</th>\n",
       "      <td>Affection</td>\n",
       "      <td>Lovers, forget your love,And list to the love of these, She a window flower,And he a winter breeze.When the frosty window veilWas melted down at noon, And the cagèd yellow birdHung over</td>\n",
       "      <td>lovers, forget your love,and list to the love of these, she a window flower,and he a winter breeze.when the frosty window veilwas melted down at noon, and the cagèd yellow birdhung over</td>\n",
       "    </tr>\n",
       "    <tr>\n",
       "      <th>524</th>\n",
       "      <td>Affection</td>\n",
       "      <td>Shall I compare thee to a summer's day? Thou art more lovely and more temperate. Rough winds do shake the darling buds of May, And summer's lease hath all too short a date. Sometime too hot the ey...</td>\n",
       "      <td>shall i compare thee to a summer's day thou art more lovely and more temperate. rough winds do shake the darling buds of may, and summer's lease hath all too short a date. sometime too hot the eye...</td>\n",
       "    </tr>\n",
       "    <tr>\n",
       "      <th>665</th>\n",
       "      <td>Environment</td>\n",
       "      <td>Cold as a slap, this indigo sea, where we clamber on blonde-fringed rocks, where someone's tarted up the fishing shacks with red paint and artful nets.The sun floats like ice in a highball. Condos...</td>\n",
       "      <td>cold as a slap, this indigo sea, where we clamber on blondefringed rocks, where someone's tarted up the fishing shacks with red paint and artful nets.the sun floats like ice in a highball. condos ...</td>\n",
       "    </tr>\n",
       "    <tr>\n",
       "      <th>222</th>\n",
       "      <td>Music</td>\n",
       "      <td>When I woke for school the next day the sky was uniform &amp; less than infinite</td>\n",
       "      <td>when i woke for school the next day the sky was uniform less than infinite</td>\n",
       "    </tr>\n",
       "    <tr>\n",
       "      <th>255</th>\n",
       "      <td>Death</td>\n",
       "      <td>\"I am come—I am come! once again from the tomb,In return for the ring which you gave;That I am thine, and that thou art mine,This nuptial pledge receive.\"He lay like a corse 'neath the Demon's force,</td>\n",
       "      <td>i am come—i am come once again from the tomb,in return for the ring which you gavethat i am thine, and that thou art mine,this nuptial pledge receive.he lay like a corse 'neath the demon's force,</td>\n",
       "    </tr>\n",
       "    <tr>\n",
       "      <th>8</th>\n",
       "      <td>Music</td>\n",
       "      <td>—for a sixty-seven-pound nugget of Lake Superior copperfound in an Iowa cornfield Before the earliest flute was carved from a vulture’s wing, before we—what few we were— bowed to the moon, the bal...</td>\n",
       "      <td>—for a sixtysevenpound nugget of lake superior copperfound in an iowa cornfield before the earliest flute was carved from a vulture’s wing, before we—what few we were— bowed to the moon, the balmy...</td>\n",
       "    </tr>\n",
       "  </tbody>\n",
       "</table>\n",
       "</div>"
      ],
      "text/plain": [
       "           Genre  \\\n",
       "482    Affection   \n",
       "127        Music   \n",
       "132        Music   \n",
       "69         Music   \n",
       "500    Affection   \n",
       "524    Affection   \n",
       "665  Environment   \n",
       "222        Music   \n",
       "255        Death   \n",
       "8          Music   \n",
       "\n",
       "                                                                                                                                                                                                        Poem  \\\n",
       "482  All in green went my love ridingon a great horse of goldinto the silver dawn.four lean hounds crouched low and smilingthe merry deer ran before. Fleeter be they than dappled dreamsthe swift sweet ...   \n",
       "127  May I venture to address you, vegetal friend?A lettuce is no less than me, so I respect you,though it’s also true I may make a salad of you,later. That’s how we humans roll. Our speciesis blowing ...   \n",
       "132  my parents were born from a car. they climbed out & kissed the car on its cheek. my grandmother. to be a first generation person. 23 and Me reports i am descendant of pistons & drive trains. 33% i...   \n",
       "69                                                                                            for my grandfatherWe don’t have heirlooms. Haven’t owned things long enough. We’re hoarding us in our stories.   \n",
       "500                Lovers, forget your love,And list to the love of these, She a window flower,And he a winter breeze.When the frosty window veilWas melted down at noon, And the cagèd yellow birdHung over   \n",
       "524  Shall I compare thee to a summer's day? Thou art more lovely and more temperate. Rough winds do shake the darling buds of May, And summer's lease hath all too short a date. Sometime too hot the ey...   \n",
       "665  Cold as a slap, this indigo sea, where we clamber on blonde-fringed rocks, where someone's tarted up the fishing shacks with red paint and artful nets.The sun floats like ice in a highball. Condos...   \n",
       "222                                                                                                                             When I woke for school the next day the sky was uniform & less than infinite   \n",
       "255  \"I am come—I am come! once again from the tomb,In return for the ring which you gave;That I am thine, and that thou art mine,This nuptial pledge receive.\"He lay like a corse 'neath the Demon's force,   \n",
       "8    —for a sixty-seven-pound nugget of Lake Superior copperfound in an Iowa cornfield Before the earliest flute was carved from a vulture’s wing, before we—what few we were— bowed to the moon, the bal...   \n",
       "\n",
       "                                                                                                                                                                                                  clean_poem  \n",
       "482  all in green went my love ridingon a great horse of goldinto the silver dawn.four lean hounds crouched low and smilingthe merry deer ran before. fleeter be they than dappled dreamsthe swift sweet ...  \n",
       "127  may i venture to address you, vegetal frienda lettuce is no less than me, so i respect you,though it’s also true i may make a salad of you,later. that’s how we humans roll. our speciesis blowing i...  \n",
       "132  my parents were born from a car. they climbed out kissed the car on its cheek. my grandmother. to be a first generation person. and me reports i am descendant of pistons drive trains. irrigation t...  \n",
       "69                                                                                            for my grandfatherwe don’t have heirlooms. haven’t owned things long enough. we’re hoarding us in our stories.  \n",
       "500                lovers, forget your love,and list to the love of these, she a window flower,and he a winter breeze.when the frosty window veilwas melted down at noon, and the cagèd yellow birdhung over  \n",
       "524  shall i compare thee to a summer's day thou art more lovely and more temperate. rough winds do shake the darling buds of may, and summer's lease hath all too short a date. sometime too hot the eye...  \n",
       "665  cold as a slap, this indigo sea, where we clamber on blondefringed rocks, where someone's tarted up the fishing shacks with red paint and artful nets.the sun floats like ice in a highball. condos ...  \n",
       "222                                                                                                                               when i woke for school the next day the sky was uniform less than infinite  \n",
       "255      i am come—i am come once again from the tomb,in return for the ring which you gavethat i am thine, and that thou art mine,this nuptial pledge receive.he lay like a corse 'neath the demon's force,  \n",
       "8    —for a sixtysevenpound nugget of lake superior copperfound in an iowa cornfield before the earliest flute was carved from a vulture’s wing, before we—what few we were— bowed to the moon, the balmy...  "
      ]
     },
     "execution_count": 11,
     "metadata": {},
     "output_type": "execute_result"
    }
   ],
   "source": [
    "df_train.sample(10)"
   ]
  },
  {
   "cell_type": "markdown",
   "id": "412c9b90-ca4c-499e-9b90-7c81fcc42340",
   "metadata": {},
   "source": [
    "Now we will perform transfer learning using the pre-trained ELMo model."
   ]
  },
  {
   "cell_type": "code",
   "execution_count": 17,
   "id": "b1c8e705-5fa2-4be1-872c-561ca3b51611",
   "metadata": {},
   "outputs": [
    {
     "data": {
      "text/html": [
       "<pre style=\"white-space:pre;overflow-x:auto;line-height:normal;font-family:Menlo,'DejaVu Sans Mono',consolas,'Courier New',monospace\"></pre>\n"
      ],
      "text/plain": [
       "\u001b[?25l"
      ]
     },
     "metadata": {},
     "output_type": "display_data"
    },
    {
     "data": {
      "text/html": [
       "<pre style=\"white-space:pre;overflow-x:auto;line-height:normal;font-family:Menlo,'DejaVu Sans Mono',consolas,'Courier New',monospace\">\n",
       "</pre>\n"
      ],
      "text/plain": [
       "\n",
       "\u001b[?25h"
      ]
     },
     "metadata": {},
     "output_type": "display_data"
    },
    {
     "data": {
      "text/html": [
       "<pre style=\"white-space:pre;overflow-x:auto;line-height:normal;font-family:Menlo,'DejaVu Sans Mono',consolas,'Courier New',monospace\"></pre>\n"
      ],
      "text/plain": [
       "\u001b[?25l"
      ]
     },
     "metadata": {},
     "output_type": "display_data"
    },
    {
     "data": {
      "text/html": [
       "<pre style=\"white-space:pre;overflow-x:auto;line-height:normal;font-family:Menlo,'DejaVu Sans Mono',consolas,'Courier New',monospace\">\n",
       "</pre>\n"
      ],
      "text/plain": [
       "\n",
       "\u001b[?25h"
      ]
     },
     "metadata": {},
     "output_type": "display_data"
    }
   ],
   "source": [
    "import torch\n",
    "import torch.nn as nn\n",
    "from allennlp.modules.elmo import Elmo, batch_to_ids\n",
    "\n",
    "# Load the ELMo model\n",
    "options_file = 'https://s3-us-west-2.amazonaws.com/allennlp/models/elmo/2x4096_512_2048cnn_2xhighway_5.5B/elmo_2x4096_512_2048cnn_2xhighway_5.5B_options.json'\n",
    "weights_file = 'https://s3-us-west-2.amazonaws.com/allennlp/models/elmo/2x4096_512_2048cnn_2xhighway_5.5B/elmo_2x4096_512_2048cnn_2xhighway_5.5B_weights.hdf5'\n",
    "elmo = Elmo(options_file, weights_file, num_output_representations=1)"
   ]
  },
  {
   "cell_type": "code",
   "execution_count": 18,
   "id": "365dad5e-040e-43fa-9bc8-c29e38da489e",
   "metadata": {},
   "outputs": [
    {
     "ename": "KeyboardInterrupt",
     "evalue": "",
     "output_type": "error",
     "traceback": [
      "\u001b[0;31m---------------------------------------------------------------------------\u001b[0m",
      "\u001b[0;31mKeyboardInterrupt\u001b[0m                         Traceback (most recent call last)",
      "Cell \u001b[0;32mIn[18], line 3\u001b[0m\n\u001b[1;32m      1\u001b[0m \u001b[38;5;66;03m# Encode sentences with ELMo\u001b[39;00m\n\u001b[1;32m      2\u001b[0m character_ids \u001b[38;5;241m=\u001b[39m batch_to_ids(df_train[\u001b[38;5;124m'\u001b[39m\u001b[38;5;124mclean_poem\u001b[39m\u001b[38;5;124m'\u001b[39m])\n\u001b[0;32m----> 3\u001b[0m elmo_embeddings \u001b[38;5;241m=\u001b[39m \u001b[43melmo\u001b[49m\u001b[43m(\u001b[49m\u001b[43mcharacter_ids\u001b[49m\u001b[43m)\u001b[49m[\u001b[38;5;124m'\u001b[39m\u001b[38;5;124melmo_representations\u001b[39m\u001b[38;5;124m'\u001b[39m][\u001b[38;5;241m0\u001b[39m]\n\u001b[1;32m      5\u001b[0m \u001b[38;5;66;03m# Flatten embeddings\u001b[39;00m\n\u001b[1;32m      6\u001b[0m flattened_embeddings \u001b[38;5;241m=\u001b[39m elmo_embeddings\u001b[38;5;241m.\u001b[39mview(\u001b[38;5;28mlen\u001b[39m(df_train[\u001b[38;5;124m'\u001b[39m\u001b[38;5;124mclean_poem\u001b[39m\u001b[38;5;124m'\u001b[39m]), \u001b[38;5;241m-\u001b[39m\u001b[38;5;241m1\u001b[39m, elmo_embeddings\u001b[38;5;241m.\u001b[39mshape[\u001b[38;5;241m-\u001b[39m\u001b[38;5;241m1\u001b[39m])\n",
      "File \u001b[0;32m~/opt/anaconda3/envs/ELMo-Pytorch/lib/python3.8/site-packages/torch/nn/modules/module.py:1130\u001b[0m, in \u001b[0;36mModule._call_impl\u001b[0;34m(self, *input, **kwargs)\u001b[0m\n\u001b[1;32m   1126\u001b[0m \u001b[38;5;66;03m# If we don't have any hooks, we want to skip the rest of the logic in\u001b[39;00m\n\u001b[1;32m   1127\u001b[0m \u001b[38;5;66;03m# this function, and just call forward.\u001b[39;00m\n\u001b[1;32m   1128\u001b[0m \u001b[38;5;28;01mif\u001b[39;00m \u001b[38;5;129;01mnot\u001b[39;00m (\u001b[38;5;28mself\u001b[39m\u001b[38;5;241m.\u001b[39m_backward_hooks \u001b[38;5;129;01mor\u001b[39;00m \u001b[38;5;28mself\u001b[39m\u001b[38;5;241m.\u001b[39m_forward_hooks \u001b[38;5;129;01mor\u001b[39;00m \u001b[38;5;28mself\u001b[39m\u001b[38;5;241m.\u001b[39m_forward_pre_hooks \u001b[38;5;129;01mor\u001b[39;00m _global_backward_hooks\n\u001b[1;32m   1129\u001b[0m         \u001b[38;5;129;01mor\u001b[39;00m _global_forward_hooks \u001b[38;5;129;01mor\u001b[39;00m _global_forward_pre_hooks):\n\u001b[0;32m-> 1130\u001b[0m     \u001b[38;5;28;01mreturn\u001b[39;00m \u001b[43mforward_call\u001b[49m\u001b[43m(\u001b[49m\u001b[38;5;241;43m*\u001b[39;49m\u001b[38;5;28;43minput\u001b[39;49m\u001b[43m,\u001b[49m\u001b[43m \u001b[49m\u001b[38;5;241;43m*\u001b[39;49m\u001b[38;5;241;43m*\u001b[39;49m\u001b[43mkwargs\u001b[49m\u001b[43m)\u001b[49m\n\u001b[1;32m   1131\u001b[0m \u001b[38;5;66;03m# Do not call functions when jit is used\u001b[39;00m\n\u001b[1;32m   1132\u001b[0m full_backward_hooks, non_full_backward_hooks \u001b[38;5;241m=\u001b[39m [], []\n",
      "File \u001b[0;32m~/opt/anaconda3/envs/ELMo-Pytorch/lib/python3.8/site-packages/allennlp/modules/elmo.py:186\u001b[0m, in \u001b[0;36mElmo.forward\u001b[0;34m(self, inputs, word_inputs)\u001b[0m\n\u001b[1;32m    183\u001b[0m     reshaped_word_inputs \u001b[38;5;241m=\u001b[39m word_inputs\n\u001b[1;32m    185\u001b[0m \u001b[38;5;66;03m# run the biLM\u001b[39;00m\n\u001b[0;32m--> 186\u001b[0m bilm_output \u001b[38;5;241m=\u001b[39m \u001b[38;5;28;43mself\u001b[39;49m\u001b[38;5;241;43m.\u001b[39;49m\u001b[43m_elmo_lstm\u001b[49m\u001b[43m(\u001b[49m\u001b[43mreshaped_inputs\u001b[49m\u001b[43m,\u001b[49m\u001b[43m \u001b[49m\u001b[43mreshaped_word_inputs\u001b[49m\u001b[43m)\u001b[49m  \u001b[38;5;66;03m# type: ignore\u001b[39;00m\n\u001b[1;32m    187\u001b[0m layer_activations \u001b[38;5;241m=\u001b[39m bilm_output[\u001b[38;5;124m\"\u001b[39m\u001b[38;5;124mactivations\u001b[39m\u001b[38;5;124m\"\u001b[39m]\n\u001b[1;32m    188\u001b[0m mask_with_bos_eos \u001b[38;5;241m=\u001b[39m bilm_output[\u001b[38;5;124m\"\u001b[39m\u001b[38;5;124mmask\u001b[39m\u001b[38;5;124m\"\u001b[39m]\n",
      "File \u001b[0;32m~/opt/anaconda3/envs/ELMo-Pytorch/lib/python3.8/site-packages/torch/nn/modules/module.py:1130\u001b[0m, in \u001b[0;36mModule._call_impl\u001b[0;34m(self, *input, **kwargs)\u001b[0m\n\u001b[1;32m   1126\u001b[0m \u001b[38;5;66;03m# If we don't have any hooks, we want to skip the rest of the logic in\u001b[39;00m\n\u001b[1;32m   1127\u001b[0m \u001b[38;5;66;03m# this function, and just call forward.\u001b[39;00m\n\u001b[1;32m   1128\u001b[0m \u001b[38;5;28;01mif\u001b[39;00m \u001b[38;5;129;01mnot\u001b[39;00m (\u001b[38;5;28mself\u001b[39m\u001b[38;5;241m.\u001b[39m_backward_hooks \u001b[38;5;129;01mor\u001b[39;00m \u001b[38;5;28mself\u001b[39m\u001b[38;5;241m.\u001b[39m_forward_hooks \u001b[38;5;129;01mor\u001b[39;00m \u001b[38;5;28mself\u001b[39m\u001b[38;5;241m.\u001b[39m_forward_pre_hooks \u001b[38;5;129;01mor\u001b[39;00m _global_backward_hooks\n\u001b[1;32m   1129\u001b[0m         \u001b[38;5;129;01mor\u001b[39;00m _global_forward_hooks \u001b[38;5;129;01mor\u001b[39;00m _global_forward_pre_hooks):\n\u001b[0;32m-> 1130\u001b[0m     \u001b[38;5;28;01mreturn\u001b[39;00m \u001b[43mforward_call\u001b[49m\u001b[43m(\u001b[49m\u001b[38;5;241;43m*\u001b[39;49m\u001b[38;5;28;43minput\u001b[39;49m\u001b[43m,\u001b[49m\u001b[43m \u001b[49m\u001b[38;5;241;43m*\u001b[39;49m\u001b[38;5;241;43m*\u001b[39;49m\u001b[43mkwargs\u001b[49m\u001b[43m)\u001b[49m\n\u001b[1;32m   1131\u001b[0m \u001b[38;5;66;03m# Do not call functions when jit is used\u001b[39;00m\n\u001b[1;32m   1132\u001b[0m full_backward_hooks, non_full_backward_hooks \u001b[38;5;241m=\u001b[39m [], []\n",
      "File \u001b[0;32m~/opt/anaconda3/envs/ELMo-Pytorch/lib/python3.8/site-packages/allennlp/modules/elmo.py:594\u001b[0m, in \u001b[0;36m_ElmoBiLm.forward\u001b[0;34m(self, inputs, word_inputs)\u001b[0m\n\u001b[1;32m    592\u001b[0m         type_representation \u001b[38;5;241m=\u001b[39m token_embedding[\u001b[38;5;124m\"\u001b[39m\u001b[38;5;124mtoken_embedding\u001b[39m\u001b[38;5;124m\"\u001b[39m]\n\u001b[1;32m    593\u001b[0m \u001b[38;5;28;01melse\u001b[39;00m:\n\u001b[0;32m--> 594\u001b[0m     token_embedding \u001b[38;5;241m=\u001b[39m \u001b[38;5;28;43mself\u001b[39;49m\u001b[38;5;241;43m.\u001b[39;49m\u001b[43m_token_embedder\u001b[49m\u001b[43m(\u001b[49m\u001b[43minputs\u001b[49m\u001b[43m)\u001b[49m\n\u001b[1;32m    595\u001b[0m     mask \u001b[38;5;241m=\u001b[39m token_embedding[\u001b[38;5;124m\"\u001b[39m\u001b[38;5;124mmask\u001b[39m\u001b[38;5;124m\"\u001b[39m]\n\u001b[1;32m    596\u001b[0m     type_representation \u001b[38;5;241m=\u001b[39m token_embedding[\u001b[38;5;124m\"\u001b[39m\u001b[38;5;124mtoken_embedding\u001b[39m\u001b[38;5;124m\"\u001b[39m]\n",
      "File \u001b[0;32m~/opt/anaconda3/envs/ELMo-Pytorch/lib/python3.8/site-packages/torch/nn/modules/module.py:1130\u001b[0m, in \u001b[0;36mModule._call_impl\u001b[0;34m(self, *input, **kwargs)\u001b[0m\n\u001b[1;32m   1126\u001b[0m \u001b[38;5;66;03m# If we don't have any hooks, we want to skip the rest of the logic in\u001b[39;00m\n\u001b[1;32m   1127\u001b[0m \u001b[38;5;66;03m# this function, and just call forward.\u001b[39;00m\n\u001b[1;32m   1128\u001b[0m \u001b[38;5;28;01mif\u001b[39;00m \u001b[38;5;129;01mnot\u001b[39;00m (\u001b[38;5;28mself\u001b[39m\u001b[38;5;241m.\u001b[39m_backward_hooks \u001b[38;5;129;01mor\u001b[39;00m \u001b[38;5;28mself\u001b[39m\u001b[38;5;241m.\u001b[39m_forward_hooks \u001b[38;5;129;01mor\u001b[39;00m \u001b[38;5;28mself\u001b[39m\u001b[38;5;241m.\u001b[39m_forward_pre_hooks \u001b[38;5;129;01mor\u001b[39;00m _global_backward_hooks\n\u001b[1;32m   1129\u001b[0m         \u001b[38;5;129;01mor\u001b[39;00m _global_forward_hooks \u001b[38;5;129;01mor\u001b[39;00m _global_forward_pre_hooks):\n\u001b[0;32m-> 1130\u001b[0m     \u001b[38;5;28;01mreturn\u001b[39;00m \u001b[43mforward_call\u001b[49m\u001b[43m(\u001b[49m\u001b[38;5;241;43m*\u001b[39;49m\u001b[38;5;28;43minput\u001b[39;49m\u001b[43m,\u001b[49m\u001b[43m \u001b[49m\u001b[38;5;241;43m*\u001b[39;49m\u001b[38;5;241;43m*\u001b[39;49m\u001b[43mkwargs\u001b[49m\u001b[43m)\u001b[49m\n\u001b[1;32m   1131\u001b[0m \u001b[38;5;66;03m# Do not call functions when jit is used\u001b[39;00m\n\u001b[1;32m   1132\u001b[0m full_backward_hooks, non_full_backward_hooks \u001b[38;5;241m=\u001b[39m [], []\n",
      "File \u001b[0;32m~/opt/anaconda3/envs/ELMo-Pytorch/lib/python3.8/site-packages/allennlp/modules/elmo.py:362\u001b[0m, in \u001b[0;36m_ElmoCharacterEncoder.forward\u001b[0;34m(self, inputs)\u001b[0m\n\u001b[1;32m    360\u001b[0m \u001b[38;5;28;01mfor\u001b[39;00m i \u001b[38;5;129;01min\u001b[39;00m \u001b[38;5;28mrange\u001b[39m(\u001b[38;5;28mlen\u001b[39m(\u001b[38;5;28mself\u001b[39m\u001b[38;5;241m.\u001b[39m_convolutions)):\n\u001b[1;32m    361\u001b[0m     conv \u001b[38;5;241m=\u001b[39m \u001b[38;5;28mgetattr\u001b[39m(\u001b[38;5;28mself\u001b[39m, \u001b[38;5;124m\"\u001b[39m\u001b[38;5;124mchar_conv_\u001b[39m\u001b[38;5;132;01m{}\u001b[39;00m\u001b[38;5;124m\"\u001b[39m\u001b[38;5;241m.\u001b[39mformat(i))\n\u001b[0;32m--> 362\u001b[0m     convolved \u001b[38;5;241m=\u001b[39m \u001b[43mconv\u001b[49m\u001b[43m(\u001b[49m\u001b[43mcharacter_embedding\u001b[49m\u001b[43m)\u001b[49m\n\u001b[1;32m    363\u001b[0m     \u001b[38;5;66;03m# (batch_size * sequence_length, n_filters for this width)\u001b[39;00m\n\u001b[1;32m    364\u001b[0m     convolved, _ \u001b[38;5;241m=\u001b[39m torch\u001b[38;5;241m.\u001b[39mmax(convolved, dim\u001b[38;5;241m=\u001b[39m\u001b[38;5;241m-\u001b[39m\u001b[38;5;241m1\u001b[39m)\n",
      "File \u001b[0;32m~/opt/anaconda3/envs/ELMo-Pytorch/lib/python3.8/site-packages/torch/nn/modules/module.py:1130\u001b[0m, in \u001b[0;36mModule._call_impl\u001b[0;34m(self, *input, **kwargs)\u001b[0m\n\u001b[1;32m   1126\u001b[0m \u001b[38;5;66;03m# If we don't have any hooks, we want to skip the rest of the logic in\u001b[39;00m\n\u001b[1;32m   1127\u001b[0m \u001b[38;5;66;03m# this function, and just call forward.\u001b[39;00m\n\u001b[1;32m   1128\u001b[0m \u001b[38;5;28;01mif\u001b[39;00m \u001b[38;5;129;01mnot\u001b[39;00m (\u001b[38;5;28mself\u001b[39m\u001b[38;5;241m.\u001b[39m_backward_hooks \u001b[38;5;129;01mor\u001b[39;00m \u001b[38;5;28mself\u001b[39m\u001b[38;5;241m.\u001b[39m_forward_hooks \u001b[38;5;129;01mor\u001b[39;00m \u001b[38;5;28mself\u001b[39m\u001b[38;5;241m.\u001b[39m_forward_pre_hooks \u001b[38;5;129;01mor\u001b[39;00m _global_backward_hooks\n\u001b[1;32m   1129\u001b[0m         \u001b[38;5;129;01mor\u001b[39;00m _global_forward_hooks \u001b[38;5;129;01mor\u001b[39;00m _global_forward_pre_hooks):\n\u001b[0;32m-> 1130\u001b[0m     \u001b[38;5;28;01mreturn\u001b[39;00m \u001b[43mforward_call\u001b[49m\u001b[43m(\u001b[49m\u001b[38;5;241;43m*\u001b[39;49m\u001b[38;5;28;43minput\u001b[39;49m\u001b[43m,\u001b[49m\u001b[43m \u001b[49m\u001b[38;5;241;43m*\u001b[39;49m\u001b[38;5;241;43m*\u001b[39;49m\u001b[43mkwargs\u001b[49m\u001b[43m)\u001b[49m\n\u001b[1;32m   1131\u001b[0m \u001b[38;5;66;03m# Do not call functions when jit is used\u001b[39;00m\n\u001b[1;32m   1132\u001b[0m full_backward_hooks, non_full_backward_hooks \u001b[38;5;241m=\u001b[39m [], []\n",
      "File \u001b[0;32m~/opt/anaconda3/envs/ELMo-Pytorch/lib/python3.8/site-packages/torch/nn/modules/conv.py:307\u001b[0m, in \u001b[0;36mConv1d.forward\u001b[0;34m(self, input)\u001b[0m\n\u001b[1;32m    306\u001b[0m \u001b[38;5;28;01mdef\u001b[39;00m \u001b[38;5;21mforward\u001b[39m(\u001b[38;5;28mself\u001b[39m, \u001b[38;5;28minput\u001b[39m: Tensor) \u001b[38;5;241m-\u001b[39m\u001b[38;5;241m>\u001b[39m Tensor:\n\u001b[0;32m--> 307\u001b[0m     \u001b[38;5;28;01mreturn\u001b[39;00m \u001b[38;5;28;43mself\u001b[39;49m\u001b[38;5;241;43m.\u001b[39;49m\u001b[43m_conv_forward\u001b[49m\u001b[43m(\u001b[49m\u001b[38;5;28;43minput\u001b[39;49m\u001b[43m,\u001b[49m\u001b[43m \u001b[49m\u001b[38;5;28;43mself\u001b[39;49m\u001b[38;5;241;43m.\u001b[39;49m\u001b[43mweight\u001b[49m\u001b[43m,\u001b[49m\u001b[43m \u001b[49m\u001b[38;5;28;43mself\u001b[39;49m\u001b[38;5;241;43m.\u001b[39;49m\u001b[43mbias\u001b[49m\u001b[43m)\u001b[49m\n",
      "File \u001b[0;32m~/opt/anaconda3/envs/ELMo-Pytorch/lib/python3.8/site-packages/torch/nn/modules/conv.py:303\u001b[0m, in \u001b[0;36mConv1d._conv_forward\u001b[0;34m(self, input, weight, bias)\u001b[0m\n\u001b[1;32m    299\u001b[0m \u001b[38;5;28;01mif\u001b[39;00m \u001b[38;5;28mself\u001b[39m\u001b[38;5;241m.\u001b[39mpadding_mode \u001b[38;5;241m!=\u001b[39m \u001b[38;5;124m'\u001b[39m\u001b[38;5;124mzeros\u001b[39m\u001b[38;5;124m'\u001b[39m:\n\u001b[1;32m    300\u001b[0m     \u001b[38;5;28;01mreturn\u001b[39;00m F\u001b[38;5;241m.\u001b[39mconv1d(F\u001b[38;5;241m.\u001b[39mpad(\u001b[38;5;28minput\u001b[39m, \u001b[38;5;28mself\u001b[39m\u001b[38;5;241m.\u001b[39m_reversed_padding_repeated_twice, mode\u001b[38;5;241m=\u001b[39m\u001b[38;5;28mself\u001b[39m\u001b[38;5;241m.\u001b[39mpadding_mode),\n\u001b[1;32m    301\u001b[0m                     weight, bias, \u001b[38;5;28mself\u001b[39m\u001b[38;5;241m.\u001b[39mstride,\n\u001b[1;32m    302\u001b[0m                     _single(\u001b[38;5;241m0\u001b[39m), \u001b[38;5;28mself\u001b[39m\u001b[38;5;241m.\u001b[39mdilation, \u001b[38;5;28mself\u001b[39m\u001b[38;5;241m.\u001b[39mgroups)\n\u001b[0;32m--> 303\u001b[0m \u001b[38;5;28;01mreturn\u001b[39;00m \u001b[43mF\u001b[49m\u001b[38;5;241;43m.\u001b[39;49m\u001b[43mconv1d\u001b[49m\u001b[43m(\u001b[49m\u001b[38;5;28;43minput\u001b[39;49m\u001b[43m,\u001b[49m\u001b[43m \u001b[49m\u001b[43mweight\u001b[49m\u001b[43m,\u001b[49m\u001b[43m \u001b[49m\u001b[43mbias\u001b[49m\u001b[43m,\u001b[49m\u001b[43m \u001b[49m\u001b[38;5;28;43mself\u001b[39;49m\u001b[38;5;241;43m.\u001b[39;49m\u001b[43mstride\u001b[49m\u001b[43m,\u001b[49m\n\u001b[1;32m    304\u001b[0m \u001b[43m                \u001b[49m\u001b[38;5;28;43mself\u001b[39;49m\u001b[38;5;241;43m.\u001b[39;49m\u001b[43mpadding\u001b[49m\u001b[43m,\u001b[49m\u001b[43m \u001b[49m\u001b[38;5;28;43mself\u001b[39;49m\u001b[38;5;241;43m.\u001b[39;49m\u001b[43mdilation\u001b[49m\u001b[43m,\u001b[49m\u001b[43m \u001b[49m\u001b[38;5;28;43mself\u001b[39;49m\u001b[38;5;241;43m.\u001b[39;49m\u001b[43mgroups\u001b[49m\u001b[43m)\u001b[49m\n",
      "\u001b[0;31mKeyboardInterrupt\u001b[0m: "
     ]
    }
   ],
   "source": [
    "# Encode sentences with ELMo\n",
    "character_ids_train = batch_to_ids(df_train['clean_poem'])\n",
    "elmo_train = elmo(character_ids_train)['elmo_representations'][0]\n",
    "\n",
    "character_ids_test = batch_to_ids(df_test['clean_poem'])\n",
    "elmo_test = elmo(character_ids_train)['elmo_representations'][0]\n",
    "\n",
    "# Flatten embeddings\n",
    "flattened_train = elmo_train.view(len(df_train['clean_poem']), -1, elmo_train.shape[-1])\n",
    "flattened_test = elmo_test.view(len(df_test['clean_poem']), -1, elmo_test.shape[-1])\n"
   ]
  },
  {
   "cell_type": "markdown",
   "id": "76951114-75f0-4fd8-87f9-e9b3d105c246",
   "metadata": {},
   "source": [
    "Lets save the elmo embeddings so we dont have to wait every time"
   ]
  },
  {
   "cell_type": "code",
   "execution_count": null,
   "id": "ef1c243d-3c66-44fd-be74-74f1b9c94579",
   "metadata": {},
   "outputs": [],
   "source": [
    "# save elmo_train_new\n",
    "pickle_out = open(\"elmo_train_03142023.pickle\",\"wb\")\n",
    "pickle.dump(elmo_train_new, pickle_out)\n",
    "pickle_out.close()\n",
    "\n",
    "# save elmo_test_new\n",
    "pickle_out = open(\"elmo_test_03142023.pickle\",\"wb\")\n",
    "pickle.dump(elmo_test_new, pickle_out)\n",
    "pickle_out.close()"
   ]
  },
  {
   "cell_type": "markdown",
   "id": "37fccedf-a494-4770-ba19-2d09b6e71619",
   "metadata": {},
   "source": [
    "code for loading the elmo embeddings:"
   ]
  },
  {
   "cell_type": "code",
   "execution_count": null,
   "id": "e8445270-0f43-4683-9288-320dc6187647",
   "metadata": {},
   "outputs": [],
   "source": [
    "# load elmo_train_new\n",
    "pickle_in = open(\"elmo_train_03142023.pickle\", \"rb\")\n",
    "elmo_train_new = pickle.load(pickle_in)\n",
    "\n",
    "# load elmo_train_new\n",
    "pickle_in = open(\"elmo_train_03142023.pickle\", \"rb\")\n",
    "elmo_test_new = pickle.load(pickle_in)"
   ]
  },
  {
   "cell_type": "markdown",
   "id": "89c82170-4730-4d08-80bf-556d445d7d8d",
   "metadata": {},
   "source": [
    "Now lets finally create our neural network. I will use a simple 2 layer feedforward network. "
   ]
  },
  {
   "cell_type": "code",
   "execution_count": null,
   "id": "2ac1ce68-9d0e-4a07-bed2-244636407373",
   "metadata": {},
   "outputs": [],
   "source": [
    "# Make neural network\n",
    "class NN(nn.module):\n",
    "    def __init__(self, input_size):\n",
    "        super(NN, self).__init__()\n",
    "        self.fc1 = nn.Linear(input_size, 64)\n",
    "        self.fc2 = nn.Linear(64, 1)\n",
    "        self.sigmoid = nn.Sigmoid()\n",
    "    \n",
    "    def forward(self, x):\n",
    "        x = self.fc1(x)\n",
    "        x = self.sigmoid(x)\n",
    "        x = self.fc2(x)\n",
    "        x = self.sigmoid(x)\n",
    "        return x"
   ]
  },
  {
   "cell_type": "markdown",
   "id": "91dd7709-9b7f-4805-a338-18c354b73156",
   "metadata": {},
   "source": [
    "Here I just defined a standard training sequence for PyTorch models"
   ]
  },
  {
   "cell_type": "code",
   "execution_count": null,
   "id": "fe336839-5365-4ab2-b4f5-75361e318dd3",
   "metadata": {},
   "outputs": [],
   "source": [
    "# Instantiate the neural network, loss, and Adam optimizer\n",
    "ffn = NN(flattened_train.shape[-1])\n",
    "crit = nn.BCELoss()\n",
    "optimizer = torch.optim.Adam(ffn.parameters(), lr=0.001)\n",
    "\n",
    "# Train model on ELMo embeddings\n",
    "no_epochs = 15\n",
    "for i in range(no_epochs): \n",
    "    inputs = flattened_train\n",
    "    labels = torch.Tensor(df_train['Genre'].unsqueeze(1) \n",
    "    \n",
    "    # zero the parameter gradients\n",
    "    optimizer.zero_grad() \n",
    "    \n",
    "    # forward + backward + optimize\n",
    "    outputs = fnn(inputs)\n",
    "    loss = crit(outputs, labels)\n",
    "    loss.backward()\n",
    "    optimizer.step()\n",
    "    \n",
    "    running_loss = loss.item()\n",
    "    print(f'epoch {i + 1} / {no_epochs} loss: {running_loss:.3f}')"
   ]
  },
  {
   "cell_type": "code",
   "execution_count": null,
   "id": "496874e3-c820-4627-9f6d-aa1ce9de2708",
   "metadata": {},
   "outputs": [],
   "source": [
    "# save model\n",
    "PATH = './elmo_net.pth'\n",
    "torch.save(net.state_dict(), PATH)"
   ]
  }
 ],
 "metadata": {
  "kernelspec": {
   "display_name": "Python 3 (ipykernel)",
   "language": "python",
   "name": "python3"
  },
  "language_info": {
   "codemirror_mode": {
    "name": "ipython",
    "version": 3
   },
   "file_extension": ".py",
   "mimetype": "text/x-python",
   "name": "python",
   "nbconvert_exporter": "python",
   "pygments_lexer": "ipython3",
   "version": "3.8.16"
  }
 },
 "nbformat": 4,
 "nbformat_minor": 5
}
